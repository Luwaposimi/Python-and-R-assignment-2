{
 "cells": [
  {
   "cell_type": "code",
   "execution_count": 6,
   "id": "7d3ad329-d128-404d-9383-7aeed22f647d",
   "metadata": {},
   "outputs": [
    {
     "name": "stdin",
     "output_type": "stream",
     "text": [
      "Employee Name: alson lee\n"
     ]
    },
    {
     "name": "stdout",
     "output_type": "stream",
     "text": [
      "Found\n",
      "Employee Details:\n",
      "Field 1: ALSON LEE\n",
      "Field 2: BATTALION CHIEF, (FIRE DEPARTMENT)\n",
      "Field 3: 92492.01\n",
      "Field 4: 89062.90\n",
      "Field 5: 134426.14\n",
      "Field 6: Not Provided\n",
      "Field 7: 315981.05\n",
      "Field 8: 315981.05\n",
      "Field 9: 2011\n",
      "\n",
      "Employee data has been exported to ALSON_LEE_data.csv\n"
     ]
    }
   ],
   "source": [
    "import csv\n",
    "\n",
    "EmployeeName = input(\"Employee Name:\")\n",
    "EmployeeName = EmployeeName.upper()\n",
    "found = False\n",
    "matched_row = []\n",
    "\n",
    "with open('Total.csv', 'r', newline='') as file:\n",
    "    csv_reader = csv.reader(file)\n",
    "    for row in csv_reader:\n",
    "        if EmployeeName in [cell.upper() for cell in row]:\n",
    "            found = True\n",
    "            matched_row = row\n",
    "            break\n",
    "\n",
    "if found:\n",
    "    print(\"Found\")\n",
    "    print(\"Employee Details:\")\n",
    "    for i, value in enumerate(matched_row):\n",
    "        print(f\"Field {i+1}: {value}\")\n",
    "    output_filename = f\"{EmployeeName.strip().replace(' ', '_')}_data.csv\"\n",
    "    with open(output_filename, 'w', newline='') as outfile:\n",
    "        writer = csv.writer(outfile)\n",
    "        with open('Total.csv', 'r', newline='') as file:\n",
    "            header = next(csv.reader(file))\n",
    "            writer.writerow(header)\n",
    "        writer.writerow(matched_row)\n",
    "    \n",
    "    print(f\"\\nEmployee data has been exported to {output_filename}\")\n",
    "else:\n",
    "    print(\"Not Found\")\n"
   ]
  },
  {
   "cell_type": "code",
   "execution_count": null,
   "id": "5a028502-3894-4951-b60b-5db16c1452a2",
   "metadata": {},
   "outputs": [],
   "source": []
  },
  {
   "cell_type": "code",
   "execution_count": null,
   "id": "a590f962-1701-4678-a467-56c490d0aa48",
   "metadata": {},
   "outputs": [],
   "source": []
  },
  {
   "cell_type": "code",
   "execution_count": null,
   "id": "a6096d67-56da-4080-9378-e5fbe6b06bb1",
   "metadata": {},
   "outputs": [],
   "source": []
  },
  {
   "cell_type": "code",
   "execution_count": null,
   "id": "7313fa8c-5e42-4a6b-8951-9c4f014975ad",
   "metadata": {},
   "outputs": [],
   "source": []
  }
 ],
 "metadata": {
  "kernelspec": {
   "display_name": "Python 3 (ipykernel)",
   "language": "python",
   "name": "python3"
  },
  "language_info": {
   "codemirror_mode": {
    "name": "ipython",
    "version": 3
   },
   "file_extension": ".py",
   "mimetype": "text/x-python",
   "name": "python",
   "nbconvert_exporter": "python",
   "pygments_lexer": "ipython3",
   "version": "3.12.10"
  }
 },
 "nbformat": 4,
 "nbformat_minor": 5
}
